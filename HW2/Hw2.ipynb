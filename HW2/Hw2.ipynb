{
 "cells": [
  {
   "cell_type": "code",
   "execution_count": 66,
   "metadata": {},
   "outputs": [
    {
     "name": "stdout",
     "output_type": "stream",
     "text": [
      "[['good', 'grilled', 'fish', 'sandwich', 'and', 'french', 'fries', ',', 'but', 'the', 'service', 'is', 'bad'], ['disgusting', 'fish', 'sandwich', ',', 'but', 'good', 'french', 'fries'], ['their', 'grilled', 'fish', 'sandwich', 'is', 'the', 'best', 'fish', 'sandwich', ',', 'but', 'pricy'], ['A', 'B', 'A', 'B', 'A', 'B', 'A']]\n"
     ]
    }
   ],
   "source": [
    "raw_input = []\n",
    "trans = 0\n",
    "data={}\n",
    "min_sup = 2\n",
    "min_length = 2\n",
    "max_length = 5\n",
    "'''\n",
    "while True:\n",
    "    try:\n",
    "        row = input()\n",
    "    except EOFError:\n",
    "        break\n",
    "    raw_input.append(row.split())\n",
    "    for i,item in enumerate(raw_input[-1]):\n",
    "        if item not in data:\n",
    "            data[item] = set()\n",
    "        data[item].add((trans,i))\n",
    "    trans += 1\n",
    "\n",
    "\n",
    "'''\n",
    "my_input=['good grilled fish sandwich and french fries , but the service is bad',\n",
    "          'disgusting fish sandwich , but good french fries',\n",
    "          'their grilled fish sandwich is the best fish sandwich , but pricy',\n",
    "          'A B A B A B A']\n",
    "for row in my_input:\n",
    "    raw_input.append(row.split())\n",
    "    for i,item in enumerate(raw_input[-1]):\n",
    "        if item not in data:\n",
    "            data[item] = set()\n",
    "        data[item].add((trans,i))\n",
    "    trans += 1\n",
    "print(raw_input)"
   ]
  },
  {
   "cell_type": "code",
   "execution_count": 67,
   "metadata": {},
   "outputs": [],
   "source": [
    "def prune(data):\n",
    "    new_data={}\n",
    "    for item in data:\n",
    "        if len(data[item]) >= min_sup:\n",
    "            new_data[item] = data[item]\n",
    "    return new_data"
   ]
  },
  {
   "cell_type": "code",
   "execution_count": 68,
   "metadata": {},
   "outputs": [],
   "source": [
    "data=prune(data)\n",
    "length_pattern=[data,{},{},{},{}]"
   ]
  },
  {
   "cell_type": "code",
   "execution_count": 69,
   "metadata": {},
   "outputs": [],
   "source": [
    "for i in range(4):\n",
    "    for item,id in length_pattern[i].items():\n",
    "        id=set([(e[0], e[1]+1) for e in id])\n",
    "        next_list=[]\n",
    "        for j in id:\n",
    "            if(j[1]<len(raw_input[j[0]]) and (not raw_input[j[0]][j[1]] in next_list)):\n",
    "                next_list.append(raw_input[j[0]][j[1]])\n",
    "        for j in next_list:\n",
    "            if j in data:\n",
    "                j_id = id & data[j]\n",
    "                if len(j_id) >= 2:\n",
    "                    length_pattern[i+1][str(item+' '+j)]=(j_id)"
   ]
  },
  {
   "cell_type": "code",
   "execution_count": 70,
   "metadata": {},
   "outputs": [],
   "source": [
    "freq_seq_pattern=[]\n",
    "for i in range(4):\n",
    "    for key, value in length_pattern[i+1].items():\n",
    "        freq_seq_pattern.append([len(value),key])\n",
    "freq_seq_pattern=sorted(freq_seq_pattern,key=lambda x:x[1])\n",
    "freq_seq_pattern=sorted(freq_seq_pattern,key=lambda x:x[0],reverse=True)\n",
    "for ans in freq_seq_pattern[:20]:\n",
    "    print (ans)\n",
    "print(length_pattern[3])"
   ]
  }
 ],
 "metadata": {
  "kernelspec": {
   "display_name": "Python 3",
   "language": "python",
   "name": "python3"
  },
  "language_info": {
   "codemirror_mode": {
    "name": "ipython",
    "version": 3
   },
   "file_extension": ".py",
   "mimetype": "text/x-python",
   "name": "python",
   "nbconvert_exporter": "python",
   "pygments_lexer": "ipython3",
   "version": "3.7.0"
  }
 },
 "nbformat": 4,
 "nbformat_minor": 2
}
