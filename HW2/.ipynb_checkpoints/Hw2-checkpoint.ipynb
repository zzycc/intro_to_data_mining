{
 "cells": [
  {
   "cell_type": "code",
   "execution_count": 75,
   "metadata": {},
   "outputs": [],
   "source": [
    "raw_input = []\n",
    "trans = 0\n",
    "data={}\n",
    "min_sup = 2\n",
    "min_length = 2\n",
    "max_length = 5\n",
    "\n",
    "while True:\n",
    "    try:\n",
    "        row = input()\n",
    "    except EOFError:\n",
    "        break\n",
    "    raw_input.append(row.split())\n",
    "    for i,item in enumerate(raw_input[-1]):\n",
    "        if item not in data:\n",
    "            data[item] = set()\n",
    "        data[item].add((trans,i))\n",
    "    trans += 1\n",
    "\n",
    "\n",
    "'''\n",
    "my_input=['good grilled fish sandwich and french fries , but the service is bad',\n",
    "          'disgusting fish sandwich , but good french fries',\n",
    "          'their grilled fish sandwich is the best fish sandwich , but pricy',\n",
    "          'A B A B A B A']\n",
    "for row in my_input:\n",
    "    raw_input.append(row.split())\n",
    "    for i,item in enumerate(raw_input[-1]):\n",
    "        if item not in data:\n",
    "            data[item] = set()\n",
    "        data[item].add((trans,i))\n",
    "    trans += 1\n",
    "'''"
   ]
  },
  {
   "cell_type": "code",
   "execution_count": 76,
   "metadata": {},
   "outputs": [],
   "source": [
    "def check(data):\n",
    "    new_data={}\n",
    "    for item in data:\n",
    "        if len(data[item]) >= min_sup:\n",
    "            new_data[item] = data[item]\n",
    "    return new_data"
   ]
  },
  {
   "cell_type": "code",
   "execution_count": 77,
   "metadata": {},
   "outputs": [],
   "source": [
    "length_pattern=[check(data),{},{},{}]"
   ]
  },
  {
   "cell_type": "code",
   "execution_count": 78,
   "metadata": {},
   "outputs": [],
   "source": [
    "for i in range(3):\n",
    "    for sid,eid in length_pattern[i].items():\n",
    "        eid=set([(e[0], e[1]+1) for e in eid])\n",
    "        next_list=[]\n",
    "        for j in eid:\n",
    "            if(j[1]<len(raw_input[j[0]]) and (not raw_input[j[0]][j[1]] in next_list)):\n",
    "                next_list.append(raw_input[j[0]][j[1]])\n",
    "        for j in next_list:\n",
    "            if j in data:\n",
    "                j_eid = eid & data[j]\n",
    "                if len(j_eid) >= 2:\n",
    "                    length_pattern[i+1][str(sid+' '+j)]=(j_eid)"
   ]
  },
  {
   "cell_type": "code",
   "execution_count": 79,
   "metadata": {},
   "outputs": [
    {
     "name": "stdout",
     "output_type": "stream",
     "text": [
      "[4, 'fish sandwich']\n",
      "[3, ', but']\n",
      "[3, 'A B']\n",
      "[3, 'A B A']\n",
      "[3, 'B A']\n",
      "[2, 'A B A B']\n",
      "[2, 'B A B']\n",
      "[2, 'B A B A']\n",
      "[2, 'fish sandwich ,']\n",
      "[2, 'fish sandwich , but']\n",
      "[2, 'french fries']\n",
      "[2, 'grilled fish']\n",
      "[2, 'grilled fish sandwich']\n",
      "[2, 'sandwich ,']\n",
      "[2, 'sandwich , but']\n"
     ]
    }
   ],
   "source": [
    "res=[]\n",
    "for i in range(3):\n",
    "    for key, value in length_pattern[i+1].items():\n",
    "        res.append([len(value),key])\n",
    "res=sorted(res,key=lambda x:x[1])\n",
    "res=sorted(res,key=lambda x:x[0],reverse=True)\n",
    "for row in res[:20]:\n",
    "    print (row)"
   ]
  }
 ],
 "metadata": {
  "kernelspec": {
   "display_name": "Python 3",
   "language": "python",
   "name": "python3"
  },
  "language_info": {
   "codemirror_mode": {
    "name": "ipython",
    "version": 3
   },
   "file_extension": ".py",
   "mimetype": "text/x-python",
   "name": "python",
   "nbconvert_exporter": "python",
   "pygments_lexer": "ipython3",
   "version": "3.7.0"
  }
 },
 "nbformat": 4,
 "nbformat_minor": 2
}
