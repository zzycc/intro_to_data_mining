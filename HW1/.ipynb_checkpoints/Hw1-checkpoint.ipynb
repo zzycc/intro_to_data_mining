{
 "cells": [
  {
   "cell_type": "code",
   "execution_count": 62,
   "metadata": {},
   "outputs": [
    {
     "name": "stdout",
     "output_type": "stream",
     "text": [
      "2\n",
      "[{'E', 'D', 'B', 'C', 'A'}, {'C', 'A'}, {'C', 'D', 'B'}]\n"
     ]
    }
   ],
   "source": [
    "import sys\n",
    "min_sup=int(input())\n",
    "#dataset = [set(line.split('\\n')[0].split(' ')) for line in sys.stdin]\n",
    "file = open(\"input1.txt\")\n",
    "next(file)\n",
    "dataset = [set(line.split('\\n')[0].split(' ')) for line in file]\n",
    "print(dataset)"
   ]
  },
  {
   "cell_type": "code",
   "execution_count": 63,
   "metadata": {},
   "outputs": [],
   "source": [
    "totalElement= set()\n",
    "for line in dataset:\n",
    "    totalElement = totalElement.union(line)\n",
    "element_list = sorted(totalElement)"
   ]
  },
  {
   "cell_type": "code",
   "execution_count": 64,
   "metadata": {},
   "outputs": [
    {
     "name": "stdout",
     "output_type": "stream",
     "text": [
      "[[], [[2, 'A'], [2, 'B'], [3, 'C'], [2, 'D']], [], [], [], [], []]\n"
     ]
    }
   ],
   "source": [
    "F=[list() for k in range(len(element_list)+2)]\n",
    "C=[list() for k in range(len(element_list)+2)]\n",
    "for element in element_list:\n",
    "    count = 0\n",
    "    for line in dataset:\n",
    "        if element in line:\n",
    "            count = count + 1\n",
    "    if count >= min_sup:\n",
    "        F[1].append([count,element])\n",
    "print(F)"
   ]
  },
  {
   "cell_type": "code",
   "execution_count": 65,
   "metadata": {},
   "outputs": [
    {
     "name": "stdout",
     "output_type": "stream",
     "text": [
      "[[], [], [['A', 'B'], ['A', 'C'], ['A', 'D'], ['B', 'C'], ['B', 'D'], ['C', 'D']], [], [], [], []]\n"
     ]
    }
   ],
   "source": [
    "k = 1\n",
    "while len(F[k])!=0:\n",
    "    for i in range(0,len(F[k])):\n",
    "        for j in range(i+1,len(F[k])):\n",
    "            if len(set(F[k][i][1].split(' ')).union(set(F[k][j][1].split(' ')))) == k+1:\n",
    "                C[k+1].append(sorted(set(F[k][i][1].split(' ')).union(set(F[k][j][1].split(' ')))))\n",
    "    #use issubet function\n",
    "    k = k + 1 \n",
    "print (C)"
   ]
  }
 ],
 "metadata": {
  "kernelspec": {
   "display_name": "Python 3",
   "language": "python",
   "name": "python3"
  },
  "language_info": {
   "codemirror_mode": {
    "name": "ipython",
    "version": 3
   },
   "file_extension": ".py",
   "mimetype": "text/x-python",
   "name": "python",
   "nbconvert_exporter": "python",
   "pygments_lexer": "ipython3",
   "version": "3.7.0"
  }
 },
 "nbformat": 4,
 "nbformat_minor": 2
}
