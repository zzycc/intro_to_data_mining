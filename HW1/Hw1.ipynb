{
 "cells": [
  {
   "cell_type": "code",
   "execution_count": 47,
   "metadata": {},
   "outputs": [
    {
     "name": "stdout",
     "output_type": "stream",
     "text": [
      "[{'B', 'C', 'E', 'D', 'K', 'A'}, {'E', 'D', 'A', 'F'}, {'B', 'E', 'D', 'C'}, {'B', 'C', 'D', 'K', 'A'}, {'G', 'C', 'A'}]\n"
     ]
    }
   ],
   "source": [
    "import sys\n",
    "min_sup=int(input())\n",
    "#min_sup=3\n",
    "dataset = [set(line.split('\\n')[0].split(' ')) for line in sys.stdin]\n",
    "#file = open(\"input0.txt\")\n",
    "#next(file)\n",
    "#dataset = [set(line.split('\\n')[0].split(' ')) for line in file]\n",
    "#print(dataset)"
   ]
  },
  {
   "cell_type": "code",
   "execution_count": 48,
   "metadata": {},
   "outputs": [],
   "source": [
    "totalElement= set()\n",
    "for line in dataset:\n",
    "    totalElement = totalElement.union(line)\n",
    "element_list = sorted(totalElement)"
   ]
  },
  {
   "cell_type": "code",
   "execution_count": 49,
   "metadata": {},
   "outputs": [
    {
     "name": "stdout",
     "output_type": "stream",
     "text": [
      "[[], [[-4, 'A'], [-3, 'B'], [-4, 'C'], [-4, 'D'], [-3, 'E']], [], [], [], [], [], [], [], []]\n",
      "[[], [], [], [], [], [], [], [], [], []]\n"
     ]
    }
   ],
   "source": [
    "F=[list() for k in range(len(element_list)+2)]\n",
    "C=[list() for k in range(len(element_list)+2)]\n",
    "for element in element_list:\n",
    "    count = 0\n",
    "    for line in dataset:\n",
    "        if element in line:\n",
    "            count = count + 1\n",
    "    if count >= min_sup:\n",
    "        F[1].append([-count,element])\n",
    "#print(F)\n",
    "#print(C)"
   ]
  },
  {
   "cell_type": "code",
   "execution_count": 50,
   "metadata": {},
   "outputs": [
    {
     "name": "stdout",
     "output_type": "stream",
     "text": [
      "4 [A]\n",
      "4 [C]\n",
      "4 [D]\n",
      "3 [A C]\n",
      "3 [A D]\n",
      "3 [B]\n",
      "3 [B C]\n",
      "3 [B C D]\n",
      "3 [B D]\n",
      "3 [C D]\n",
      "3 [D E]\n",
      "3 [E]\n",
      "\n",
      "4 [A]\n",
      "4 [C]\n",
      "4 [D]\n",
      "3 [A C]\n",
      "3 [A D]\n",
      "3 [B C D]\n",
      "3 [D E]\n",
      "\n",
      "3 [A C]\n",
      "3 [A D]\n",
      "3 [B C D]\n",
      "3 [D E]\n",
      "\n"
     ]
    }
   ],
   "source": [
    "k = 1\n",
    "while len(F[k])!=0:\n",
    "    for i in range(len(F[k])):\n",
    "        for j in range(i+1,len(F[k])):\n",
    "            tmp = set(F[k][i][1:]).union(set(F[k][j][1:]))\n",
    "            if len(tmp) == k+1 and sorted(tmp) not in C[k+1]:\n",
    "                C[k+1].append(sorted(tmp))\n",
    "    #use issubet function\n",
    "    for candidate in C[k+1]:\n",
    "        count = 0\n",
    "        for group in dataset:\n",
    "            if set(candidate).issubset(group):\n",
    "                count = count + 1\n",
    "        if count >= min_sup:\n",
    "            F[k+1].append([-count])\n",
    "            F[k+1][len(F[k+1])-1].extend(candidate)\n",
    "    k = k + 1 \n",
    "freq_pattern = list()\n",
    "close_pattern = list()\n",
    "max_pattern = list()\n",
    "for i in range(len(F)):\n",
    "    for j in F[i]:\n",
    "        freq_pattern.append(j)\n",
    "freq_pattern = sorted(freq_pattern)\n",
    "for i in freq_pattern:\n",
    "    print(-i[0], end =\" [\")\n",
    "    for j in i[1:]:\n",
    "        if j==i[len(i)-1]:\n",
    "            print(j, end = \"]\\n\")\n",
    "        else:\n",
    "            print(j, end = \" \")\n",
    "print()\n",
    "for i in freq_pattern:\n",
    "    flag = 1\n",
    "    for j in freq_pattern:\n",
    "        if i==j:\n",
    "            continue\n",
    "        if set(i[1:]).issubset(set(j[1:])) and i[0] == j[0]:\n",
    "            flag = 0\n",
    "            break\n",
    "    if flag == 1:\n",
    "        close_pattern.append(i)\n",
    "for i in close_pattern:\n",
    "    print(-i[0], end =\" [\")\n",
    "    for j in i[1:]:\n",
    "        if j==i[len(i)-1]:\n",
    "            print(j, end = \"]\\n\")\n",
    "        else:\n",
    "            print(j, end = \" \")\n",
    "print()\n",
    "for i in freq_pattern:\n",
    "    flag = 1\n",
    "    for j in freq_pattern:\n",
    "        if i==j:\n",
    "            continue\n",
    "        if set(i[1:]).issubset(set(j[1:])):\n",
    "            flag = 0\n",
    "            break\n",
    "    if flag == 1:\n",
    "        max_pattern.append(i)\n",
    "for i in max_pattern:\n",
    "    print(-i[0], end =\" [\")\n",
    "    for j in i[1:]:\n",
    "        if j==i[len(i)-1]:\n",
    "            print(j, end = \"]\\n\")\n",
    "        else:\n",
    "            print(j, end = \" \")\n",
    "print()"
   ]
  }
 ],
 "metadata": {
  "kernelspec": {
   "display_name": "Python 3",
   "language": "python",
   "name": "python3"
  },
  "language_info": {
   "codemirror_mode": {
    "name": "ipython",
    "version": 3
   },
   "file_extension": ".py",
   "mimetype": "text/x-python",
   "name": "python",
   "nbconvert_exporter": "python",
   "pygments_lexer": "ipython3",
   "version": "3.7.0"
  }
 },
 "nbformat": 4,
 "nbformat_minor": 2
}
