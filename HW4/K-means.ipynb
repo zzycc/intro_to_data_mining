{
 "cells": [
  {
   "cell_type": "code",
   "execution_count": 1,
   "metadata": {},
   "outputs": [
    {
     "name": "stdout",
     "output_type": "stream",
     "text": [
      "18 2\n"
     ]
    }
   ],
   "source": [
    "raw_input=input()\n",
    "n=int(raw_input.split()[0])\n",
    "K=int(raw_input.split()[1])"
   ]
  },
  {
   "cell_type": "code",
   "execution_count": 3,
   "metadata": {
    "scrolled": true
   },
   "outputs": [],
   "source": [
    "'''data=[]\n",
    "center=[]\n",
    "for i in range(n):\n",
    "    data.append(list(map(float,input().split())))\n",
    "for i in range(K):\n",
    "    center.append(list(map(float,input().split())))\n",
    "'''\n",
    "data=[[8.98320053625, -1.08946304844],\n",
    "[2.61615632899, 9.46426282022],\n",
    "[1.60822068547, 8.29785986996],\n",
    "[8.64957587261, -0.882595891607],\n",
    "[1.01364234605, 10.0300852081],\n",
    "[8.49172651098, 8.68816850944],\n",
    "[7.95531802235, -1.96381815529],\n",
    "[0.527763520075, 9.22731148332],\n",
    "[6.91660822453, -3.2344537134],\n",
    "[6.48286208351, -0.605353440895],\n",
    "[3.35228193353, 6.27493570626],\n",
    "[6.76656276363, 6.54028732984],\n",
    "[6.91660822453, -3.2344537134],\n",
    "[6.48286208351, -2.605353440895],\n",
    "[3.35228193353, 6.27493570626],\n",
    "[6.76656276363, 6.54028732984],\n",
    "[4.91660822453, -3.2344537134],\n",
    "[6.48286208351, -0.605353440895]]\n",
    "center=[[9.35228193353, 1.27493570626],\n",
    "[6.76656276363, 6.54028732984]]"
   ]
  },
  {
   "cell_type": "code",
   "execution_count": 4,
   "metadata": {},
   "outputs": [
    {
     "name": "stdout",
     "output_type": "stream",
     "text": [
      "0\n",
      "1\n",
      "1\n",
      "0\n",
      "1\n",
      "1\n",
      "0\n",
      "1\n",
      "0\n",
      "0\n",
      "1\n",
      "1\n",
      "0\n",
      "0\n",
      "1\n",
      "1\n",
      "0\n",
      "0\n"
     ]
    }
   ],
   "source": [
    "cluster=[-1 for i in range(n)]\n",
    "flag=0\n",
    "while True:\n",
    "    new_cluster=[-1 for i in range(n)]\n",
    "    count=[0 for i in range(K)]\n",
    "    for i in range(n):\n",
    "        min_dist=None\n",
    "        for j in range(K):\n",
    "            distance=0\n",
    "            for k in range(len(data[0])):\n",
    "                distance+=(data[i][k]-center[j][k])**2\n",
    "            if min_dist==None or min_dist > distance:\n",
    "                min_dist = distance\n",
    "                new_cluster[i]=j\n",
    "        count[new_cluster[i]]+=1\n",
    "    if cluster==new_cluster:\n",
    "        break\n",
    "    cluster=new_cluster\n",
    "    center=[[0 for i in range(len(data[0]))] for j in range(K)]\n",
    "    for i in range(n):\n",
    "        for j in range(len(data[0])):\n",
    "            center[cluster[i]][j]+=data[i][j]/count[cluster[i]]\n",
    "for i in range(n):\n",
    "    print(cluster[i])"
   ]
  },
  {
   "cell_type": "code",
   "execution_count": 7,
   "metadata": {},
   "outputs": [
    {
     "ename": "TypeError",
     "evalue": "unsupported operand type(s) for /=: 'list' and 'int'",
     "output_type": "error",
     "traceback": [
      "\u001b[1;31m---------------------------------------------------------------------------\u001b[0m",
      "\u001b[1;31mTypeError\u001b[0m                                 Traceback (most recent call last)",
      "\u001b[1;32m<ipython-input-7-68ace07bf9ec>\u001b[0m in \u001b[0;36m<module>\u001b[1;34m()\u001b[0m\n\u001b[0;32m      1\u001b[0m \u001b[0ma\u001b[0m\u001b[1;33m=\u001b[0m\u001b[1;33m[\u001b[0m\u001b[1;36m0\u001b[0m\u001b[1;33m,\u001b[0m\u001b[1;36m10\u001b[0m\u001b[1;33m]\u001b[0m\u001b[1;33m\u001b[0m\u001b[0m\n\u001b[1;32m----> 2\u001b[1;33m \u001b[0ma\u001b[0m\u001b[1;33m/=\u001b[0m\u001b[1;36m2\u001b[0m\u001b[1;33m\u001b[0m\u001b[0m\n\u001b[0m\u001b[0;32m      3\u001b[0m \u001b[0mprint\u001b[0m\u001b[1;33m(\u001b[0m\u001b[0ma\u001b[0m\u001b[1;33m)\u001b[0m\u001b[1;33m\u001b[0m\u001b[0m\n",
      "\u001b[1;31mTypeError\u001b[0m: unsupported operand type(s) for /=: 'list' and 'int'"
     ]
    }
   ],
   "source": []
  },
  {
   "cell_type": "code",
   "execution_count": null,
   "metadata": {},
   "outputs": [],
   "source": []
  }
 ],
 "metadata": {
  "kernelspec": {
   "display_name": "Python 3",
   "language": "python",
   "name": "python3"
  },
  "language_info": {
   "codemirror_mode": {
    "name": "ipython",
    "version": 3
   },
   "file_extension": ".py",
   "mimetype": "text/x-python",
   "name": "python",
   "nbconvert_exporter": "python",
   "pygments_lexer": "ipython3",
   "version": "3.7.0"
  }
 },
 "nbformat": 4,
 "nbformat_minor": 2
}
