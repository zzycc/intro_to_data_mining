{
 "cells": [
  {
   "cell_type": "code",
   "execution_count": 61,
   "metadata": {},
   "outputs": [
    {
     "name": "stdout",
     "output_type": "stream",
     "text": [
      "10 2\n"
     ]
    }
   ],
   "source": [
    "raw_input=input()\n",
    "n=int(raw_input.split()[0])\n",
    "K=int(raw_input.split()[1])"
   ]
  },
  {
   "cell_type": "code",
   "execution_count": 62,
   "metadata": {},
   "outputs": [],
   "source": [
    "'''data=[]\n",
    "center=[]\n",
    "for i in range(n):\n",
    "    data.append(list(map(float,input().split())))\n",
    "for i in range(K):\n",
    "    center.append(list(map(float,input().split())))\n",
    "'''\n",
    "data=[[8.98320053625, -2.08946304844],\n",
    "      [2.61615632899, 9.46426282022],\n",
    "      [1.60822068547, 8.29785986996],\n",
    "      [8.64957587261, -0.882595891607],\n",
    "      [1.01364234605, 10.0300852081],\n",
    "      [1.49172651098, 8.68816850944],\n",
    "      [7.95531802235, -1.96381815529],\n",
    "      [0.527763520075, 9.22731148332],\n",
    "      [6.91660822453, -3.2344537134],\n",
    "      [6.48286208351, -0.605353440895]]\n",
    "center=[[3.35228193353, 6.27493570626],\n",
    "      [6.76656276363, 6.54028732984]]"
   ]
  },
  {
   "cell_type": "code",
   "execution_count": 63,
   "metadata": {},
   "outputs": [
    {
     "name": "stdout",
     "output_type": "stream",
     "text": [
      "0\n",
      "1\n",
      "1\n",
      "0\n",
      "1\n",
      "1\n",
      "0\n",
      "1\n",
      "0\n",
      "0\n"
     ]
    }
   ],
   "source": [
    "def getKey(dist):\n",
    "    return dist[0]\n",
    "distance=[]\n",
    "cluster=[i for i in range(n)]\n",
    "cluster_num=n\n",
    "for i in range(len(data)):\n",
    "    for j in range(i+1,len(data)):\n",
    "        dis=0\n",
    "        for k in range(len(data[0])):\n",
    "            dis+=(data[i][k]-data[j][k])**2\n",
    "        distance.append([dis,i,j])\n",
    "distance=sorted(distance,key=getKey)\n",
    "for i in distance:\n",
    "    if cluster_num == K:\n",
    "        break\n",
    "    if cluster[i[1]]!=cluster[i[2]]:\n",
    "        tmp=max(cluster[i[1]],cluster[i[2]])\n",
    "        for j in range(n):\n",
    "            if cluster[j]==tmp:\n",
    "                cluster[j]=min(cluster[i[1]],cluster[i[2]])\n",
    "        cluster_num -= 1\n",
    "for i in range(n):\n",
    "    print(cluster[i])"
   ]
  },
  {
   "cell_type": "code",
   "execution_count": 47,
   "metadata": {},
   "outputs": [
    {
     "name": "stdout",
     "output_type": "stream",
     "text": [
      "[[10, 11, 18], [10, 11, 19], [11, 9, 15]]\n"
     ]
    }
   ],
   "source": []
  },
  {
   "cell_type": "code",
   "execution_count": null,
   "metadata": {},
   "outputs": [],
   "source": []
  }
 ],
 "metadata": {
  "kernelspec": {
   "display_name": "Python 3",
   "language": "python",
   "name": "python3"
  },
  "language_info": {
   "codemirror_mode": {
    "name": "ipython",
    "version": 3
   },
   "file_extension": ".py",
   "mimetype": "text/x-python",
   "name": "python",
   "nbconvert_exporter": "python",
   "pygments_lexer": "ipython3",
   "version": "3.7.0"
  }
 },
 "nbformat": 4,
 "nbformat_minor": 2
}
